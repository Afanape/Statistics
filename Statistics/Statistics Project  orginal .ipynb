{
 "cells": [
  {
   "cell_type": "code",
   "execution_count": null,
   "id": "5479e28f-ffab-42d5-aede-167bed8c298f",
   "metadata": {},
   "outputs": [],
   "source": []
  },
  {
   "cell_type": "code",
   "execution_count": null,
   "id": "d557b251-7760-4d8c-8b61-de2c56c6366b",
   "metadata": {},
   "outputs": [],
   "source": []
  },
  {
   "cell_type": "code",
   "execution_count": null,
   "id": "1ac49b7e-8619-4d95-95af-1581e344ac9b",
   "metadata": {},
   "outputs": [],
   "source": []
  },
  {
   "cell_type": "markdown",
   "id": "1e8f43d6-258b-47cf-afbd-22eb1f768230",
   "metadata": {},
   "source": [
    "<h2 style=\"background-color:navy; color:white; text-align:center; padding:10px;\">\n",
    "    Importing Libraries\n",
    "</h2>"
   ]
  },
  {
   "cell_type": "code",
   "execution_count": 34,
   "id": "490dbced-816c-48c7-b98d-9d018b67b400",
   "metadata": {},
   "outputs": [],
   "source": [
    "import pandas as pd\n",
    "import seaborn as sns\n",
    "import numpy as np\n",
    "import matplotlib.pyplot as plt\n",
    "\n",
    "from statsmodels.stats.weightstats import ztest\n",
    "from scipy.stats import ttest_ind\n",
    "from scipy.stats import chi2_contingency\n",
    "from scipy.stats import f_oneway\n",
    "from sklearn.linear_model import LinearRegression\n",
    "from sklearn.metrics import mean_squared_error\n",
    "from sklearn.model_selection import train_test_split\n",
    "from scipy.stats import mannwhitneyu"
   ]
  },
  {
   "cell_type": "markdown",
   "id": "a0da2a9a-bbc0-46af-bf62-f31c1bc2b46f",
   "metadata": {},
   "source": [
    "<h2 style=\"background-color:navy; color:white; text-align:center; padding:10px;\">\n",
    "    Data Exploration and Summary\n",
    "</h2>"
   ]
  },
  {
   "cell_type": "code",
   "execution_count": 2,
   "id": "d440f0e2-ab87-44d4-84dd-bcf4a7ba81de",
   "metadata": {},
   "outputs": [
    {
     "data": {
      "text/html": [
       "<div>\n",
       "<style scoped>\n",
       "    .dataframe tbody tr th:only-of-type {\n",
       "        vertical-align: middle;\n",
       "    }\n",
       "\n",
       "    .dataframe tbody tr th {\n",
       "        vertical-align: top;\n",
       "    }\n",
       "\n",
       "    .dataframe thead th {\n",
       "        text-align: right;\n",
       "    }\n",
       "</style>\n",
       "<table border=\"1\" class=\"dataframe\">\n",
       "  <thead>\n",
       "    <tr style=\"text-align: right;\">\n",
       "      <th></th>\n",
       "      <th>age</th>\n",
       "      <th>sex</th>\n",
       "      <th>bmi</th>\n",
       "      <th>children</th>\n",
       "      <th>smoker</th>\n",
       "      <th>region</th>\n",
       "      <th>charges</th>\n",
       "    </tr>\n",
       "  </thead>\n",
       "  <tbody>\n",
       "    <tr>\n",
       "      <th>0</th>\n",
       "      <td>19</td>\n",
       "      <td>female</td>\n",
       "      <td>27.900</td>\n",
       "      <td>0</td>\n",
       "      <td>yes</td>\n",
       "      <td>southwest</td>\n",
       "      <td>16884.92400</td>\n",
       "    </tr>\n",
       "    <tr>\n",
       "      <th>1</th>\n",
       "      <td>18</td>\n",
       "      <td>male</td>\n",
       "      <td>33.770</td>\n",
       "      <td>1</td>\n",
       "      <td>no</td>\n",
       "      <td>southeast</td>\n",
       "      <td>1725.55230</td>\n",
       "    </tr>\n",
       "    <tr>\n",
       "      <th>2</th>\n",
       "      <td>28</td>\n",
       "      <td>male</td>\n",
       "      <td>33.000</td>\n",
       "      <td>3</td>\n",
       "      <td>no</td>\n",
       "      <td>southeast</td>\n",
       "      <td>4449.46200</td>\n",
       "    </tr>\n",
       "    <tr>\n",
       "      <th>3</th>\n",
       "      <td>33</td>\n",
       "      <td>male</td>\n",
       "      <td>22.705</td>\n",
       "      <td>0</td>\n",
       "      <td>no</td>\n",
       "      <td>northwest</td>\n",
       "      <td>21984.47061</td>\n",
       "    </tr>\n",
       "    <tr>\n",
       "      <th>4</th>\n",
       "      <td>32</td>\n",
       "      <td>male</td>\n",
       "      <td>28.880</td>\n",
       "      <td>0</td>\n",
       "      <td>no</td>\n",
       "      <td>northwest</td>\n",
       "      <td>3866.85520</td>\n",
       "    </tr>\n",
       "  </tbody>\n",
       "</table>\n",
       "</div>"
      ],
      "text/plain": [
       "   age     sex     bmi  children smoker     region      charges\n",
       "0   19  female  27.900         0    yes  southwest  16884.92400\n",
       "1   18    male  33.770         1     no  southeast   1725.55230\n",
       "2   28    male  33.000         3     no  southeast   4449.46200\n",
       "3   33    male  22.705         0     no  northwest  21984.47061\n",
       "4   32    male  28.880         0     no  northwest   3866.85520"
      ]
     },
     "execution_count": 2,
     "metadata": {},
     "output_type": "execute_result"
    }
   ],
   "source": [
    "data=pd.read_csv(\"./insurance.csv\")\n",
    "data.head()"
   ]
  },
  {
   "cell_type": "code",
   "execution_count": 3,
   "id": "2b5f7630-8a2f-49b5-808b-0bb16dba2ad4",
   "metadata": {},
   "outputs": [
    {
     "data": {
      "text/plain": [
       "(1338, 7)"
      ]
     },
     "execution_count": 3,
     "metadata": {},
     "output_type": "execute_result"
    }
   ],
   "source": [
    "data.shape"
   ]
  },
  {
   "cell_type": "code",
   "execution_count": 4,
   "id": "2d4c0223-8245-40fb-a591-e17dfae5f1c0",
   "metadata": {},
   "outputs": [
    {
     "data": {
      "text/plain": [
       "9366"
      ]
     },
     "execution_count": 4,
     "metadata": {},
     "output_type": "execute_result"
    }
   ],
   "source": [
    "data.size"
   ]
  },
  {
   "cell_type": "code",
   "execution_count": 5,
   "id": "9c27fc11-bcf9-4bc5-be7e-f8a9478e774f",
   "metadata": {},
   "outputs": [
    {
     "data": {
      "text/plain": [
       "age           int64\n",
       "sex          object\n",
       "bmi         float64\n",
       "children      int64\n",
       "smoker       object\n",
       "region       object\n",
       "charges     float64\n",
       "dtype: object"
      ]
     },
     "execution_count": 5,
     "metadata": {},
     "output_type": "execute_result"
    }
   ],
   "source": [
    "data.dtypes"
   ]
  },
  {
   "cell_type": "code",
   "execution_count": 6,
   "id": "3f352a0f-e808-4c5c-bd9f-56a63eada05f",
   "metadata": {},
   "outputs": [
    {
     "data": {
      "text/plain": [
       "age         0\n",
       "sex         0\n",
       "bmi         0\n",
       "children    0\n",
       "smoker      0\n",
       "region      0\n",
       "charges     0\n",
       "dtype: int64"
      ]
     },
     "execution_count": 6,
     "metadata": {},
     "output_type": "execute_result"
    }
   ],
   "source": [
    "data.isnull().sum()"
   ]
  },
  {
   "cell_type": "code",
   "execution_count": 7,
   "id": "67e9e999-d50d-4665-806f-d9847237446b",
   "metadata": {},
   "outputs": [
    {
     "data": {
      "text/plain": [
       "1"
      ]
     },
     "execution_count": 7,
     "metadata": {},
     "output_type": "execute_result"
    }
   ],
   "source": [
    "data.duplicated().sum()"
   ]
  },
  {
   "cell_type": "code",
   "execution_count": 8,
   "id": "ab564ee0-6e50-43bb-9195-67f8fca000cc",
   "metadata": {},
   "outputs": [],
   "source": [
    "data.drop_duplicates(inplace=True)"
   ]
  },
  {
   "cell_type": "code",
   "execution_count": 9,
   "id": "acfb1bdb-2292-4318-9665-8a0beb4acc37",
   "metadata": {},
   "outputs": [
    {
     "data": {
      "text/plain": [
       "0"
      ]
     },
     "execution_count": 9,
     "metadata": {},
     "output_type": "execute_result"
    }
   ],
   "source": [
    "data.duplicated().sum()"
   ]
  },
  {
   "cell_type": "code",
   "execution_count": 10,
   "id": "d1e6f056-7fbe-4e31-8422-b68254fea0ab",
   "metadata": {},
   "outputs": [
    {
     "data": {
      "text/plain": [
       "Index(['age', 'sex', 'bmi', 'children', 'smoker', 'region', 'charges'], dtype='object')"
      ]
     },
     "execution_count": 10,
     "metadata": {},
     "output_type": "execute_result"
    }
   ],
   "source": [
    "data.columns"
   ]
  },
  {
   "cell_type": "code",
   "execution_count": 11,
   "id": "7de746f2-5d66-4015-97a5-68d8772258ca",
   "metadata": {},
   "outputs": [
    {
     "name": "stdout",
     "output_type": "stream",
     "text": [
      "<class 'pandas.core.frame.DataFrame'>\n",
      "Index: 1337 entries, 0 to 1337\n",
      "Data columns (total 7 columns):\n",
      " #   Column    Non-Null Count  Dtype  \n",
      "---  ------    --------------  -----  \n",
      " 0   age       1337 non-null   int64  \n",
      " 1   sex       1337 non-null   object \n",
      " 2   bmi       1337 non-null   float64\n",
      " 3   children  1337 non-null   int64  \n",
      " 4   smoker    1337 non-null   object \n",
      " 5   region    1337 non-null   object \n",
      " 6   charges   1337 non-null   float64\n",
      "dtypes: float64(2), int64(2), object(3)\n",
      "memory usage: 83.6+ KB\n"
     ]
    }
   ],
   "source": [
    "data.info()"
   ]
  },
  {
   "cell_type": "markdown",
   "id": "7a977d4c-eac1-46f0-9676-65c0cfc5963a",
   "metadata": {},
   "source": [
    "<h2 style=\"background-color:navy; color:white; text-align:center; padding:10px;\">\n",
    "    EDA (Exploratory Data Analysis)\n",
    "</h2>\n"
   ]
  },
  {
   "cell_type": "markdown",
   "id": "376fd122-6197-4cf0-9d06-4f807e11803e",
   "metadata": {},
   "source": [
    "### Distribution of Categorical Features"
   ]
  },
  {
   "cell_type": "code",
   "execution_count": 13,
   "id": "54c7d2ce-ed59-4aa8-bcd1-e0d1ea62603b",
   "metadata": {},
   "outputs": [
    {
     "data": {
      "image/png": "[encoded data removed]",
      "text/plain": [
       "<Figure size 1200x600 with 3 Axes>"
      ]
     },
     "metadata": {},
     "output_type": "display_data"
    }
   ],
   "source": [
    "# Categorical: countplots\n",
    "plt.figure(figsize=(12, 6))\n",
    "for i, col in enumerate(['sex', 'smoker', 'region']):\n",
    "    plt.subplot(1, 3, i+1)\n",
    "    sns.countplot(x=col, data=data)\n",
    "    plt.title(f\"Count of {col}\")\n",
    "plt.tight_layout()\n",
    "plt.show()"
   ]
  },
  {
   "cell_type": "markdown",
   "id": "bb6d52bc-fd6e-40e7-ad45-f92bc23767b5",
   "metadata": {},
   "source": [
    "### Insight :"
   ]
  },
  {
   "cell_type": "markdown",
   "id": "625f5898-d8bc-4548-92ec-63a1369a9ef0",
   "metadata": {},
   "source": [
    "* The dataset has an almost equal distribution of males and females.\n",
    "\n",
    "* Non-smokers dominate the dataset, while smokers are fewer.\n",
    "\n",
    "* Regional distribution is fairly balanced, with the southeast having slightly more individuals.\n"
   ]
  },
  {
   "cell_type": "markdown",
   "id": "cff222d1-cbd7-4926-879b-6e858d62f5e8",
   "metadata": {},
   "source": [
    "### Distribution of Numerical Features"
   ]
  },
  {
   "cell_type": "code",
   "execution_count": 14,
   "id": "c960e49f-30fb-4832-b83b-151686c26437",
   "metadata": {},
   "outputs": [
    {
     "data": {
      "image/png": "[encoded data removed]",
      "text/plain": [
       "<Figure size 640x480 with 1 Axes>"
      ]
     },
     "metadata": {},
     "output_type": "display_data"
    },
    {
     "data": {
      "image/png": "[encoded data removed]",
      "text/plain": [
       "<Figure size 640x480 with 1 Axes>"
      ]
     },
     "metadata": {},
     "output_type": "display_data"
    },
    {
     "data": {
      "image/png": "[encoded data removed]",
      "text/plain": [
       "<Figure size 640x480 with 1 Axes>"
      ]
     },
     "metadata": {},
     "output_type": "display_data"
    }
   ],
   "source": [
    "for col in ['age', 'bmi', 'charges']:\n",
    "    sns.histplot(data[col], kde=True)\n",
    "    plt.title(f'Distribution of {col}')\n",
    "    plt.xlabel(col)\n",
    "    plt.show()"
   ]
  },
  {
   "cell_type": "markdown",
   "id": "ce8f87bf-cc4e-4780-a06b-b58c7ec7e33a",
   "metadata": {},
   "source": [
    "### Insight :"
   ]
  },
  {
   "cell_type": "markdown",
   "id": "bd2d1374-577c-4b89-a3d0-d80439d26cc1",
   "metadata": {},
   "source": [
    "* The dataset covers a wide range of ages, with many young adults.\n",
    "\n",
    "* BMI is approximately normally distributed, with most individuals in the overweight range (25–35).\n",
    "\n",
    "* Medical charges are highly right-skewed, with most below 15,000 and a few very high outliers."
   ]
  },
  {
   "cell_type": "markdown",
   "id": "042dc110-abc1-4e2c-9ca5-e2f475544899",
   "metadata": {},
   "source": [
    "### Correlation Matrix of Numerical Features"
   ]
  },
  {
   "cell_type": "code",
   "execution_count": 15,
   "id": "03de31a3-574d-4b8a-92d9-d9ceca9132a7",
   "metadata": {},
   "outputs": [
    {
     "data": {
      "image/png": "[encoded data removed]",
      "text/plain": [
       "<Figure size 640x480 with 2 Axes>"
      ]
     },
     "metadata": {},
     "output_type": "display_data"
    }
   ],
   "source": [
    "sns.heatmap(data.corr(numeric_only=True), annot=True, cmap='Blues')\n",
    "plt.title('Correlation Matrix')\n",
    "plt.show()"
   ]
  },
  {
   "cell_type": "markdown",
   "id": "60b59d7d-9991-49b0-8d25-d08643ba1d84",
   "metadata": {},
   "source": [
    "### Insight :"
   ]
  },
  {
   "cell_type": "markdown",
   "id": "8b0cac9c-dab3-4866-9b1b-b074ac36ca26",
   "metadata": {},
   "source": [
    "* Age and Charges: Moderate positive correlation (0.3) → older individuals have higher medical charges.\n",
    "\n",
    "* BMI and Charges: Weak positive correlation (0.2) → higher BMI slightly increases medical costs.\n",
    "\n",
    "* Children and Charges: Very weak correlation (0.067) → number of children has little impact.\n",
    "\n",
    "* Age and BMI influence charges more than children."
   ]
  },
  {
   "cell_type": "markdown",
   "id": "26079d63-8a44-4254-b2db-fd8bf2b43cfb",
   "metadata": {},
   "source": [
    "<h2 style=\"background-color:navy; color:white; text-align:center; padding:10px;\">\n",
    "    Hypothesis Testing Using Z-Test\n",
    "\n",
    "</h2>\n"
   ]
  },
  {
   "cell_type": "markdown",
   "id": "edd2cd72-4e3e-4cc4-b4fd-8bf40ee85ceb",
   "metadata": {},
   "source": [
    "* The Z-test is a statistical method used to determine whether there is a significant difference between two group means.\n",
    "* It is commonly used when the sample size is large (n > 30)."
   ]
  },
  {
   "cell_type": "code",
   "execution_count": 20,
   "id": "7ed0d834-b068-4fb0-bdfc-46836402fc0f",
   "metadata": {},
   "outputs": [
    {
     "name": "stdout",
     "output_type": "stream",
     "text": [
      "P-value: 0.0000\n"
     ]
    }
   ],
   "source": [
    "from statsmodels.stats.weightstats import ztest\n",
    "\n",
    "# Separate charges for smokers and non-smokers\n",
    "smoker_charges = data[data['smoker'] == 'yes']['charges']\n",
    "nonsmoker_charges = data[data['smoker'] == 'no']['charges']\n",
    "\n",
    "# Z-test\n",
    "z_stat, p_value = ztest(smoker_charges, nonsmoker_charges, alternative='two-sided')\n",
    "\n",
    "print(f\"P-value: {p_value:.4f}\")"
   ]
  },
  {
   "cell_type": "code",
   "execution_count": 21,
   "id": "642fe369-10ba-4839-a14e-6eda01f89fcc",
   "metadata": {},
   "outputs": [
    {
     "name": "stdout",
     "output_type": "stream",
     "text": [
      "Reject the null hypothesis: There is a significant difference in charges.\n"
     ]
    }
   ],
   "source": [
    "# Conclusion\n",
    "if p_value <0.05:\n",
    "    print(\"Reject the null hypothesis: There is a significant difference in charges.\")\n",
    "else:\n",
    "    print(\"Fail to reject the null hypothesis: No significant difference in charges.\")"
   ]
  },
  {
   "cell_type": "markdown",
   "id": "92c9dc29-f022-412a-9763-b7160eafcc13",
   "metadata": {},
   "source": [
    "### Insight :"
   ]
  },
  {
   "cell_type": "markdown",
   "id": "e0abbb11-694f-429b-b838-87a6a50a31ba",
   "metadata": {},
   "source": [
    "* The Z-test was used to compare medical charges between smokers and non-smokers.\n",
    "\n",
    "* The p-value is 0.0000, which is less than 0.05.\n",
    "\n",
    "* This means we reject the null hypothesis.\n",
    "\n",
    "* There is a significant difference in medical charges between smokers and non-smokers, with smokers generally incurring much higher costs."
   ]
  },
  {
   "cell_type": "markdown",
   "id": "543f7a47-caa6-44ea-8e35-3d208956d7ac",
   "metadata": {},
   "source": [
    "<h2 style=\"background-color:navy; color:white; text-align:center; padding:10px;\">\n",
    "    Hypothesis Testing Using T-Test\n",
    "\n",
    "</h2>"
   ]
  },
  {
   "cell_type": "markdown",
   "id": "a396a3fd-deac-4cf4-8e17-996bd794a1b0",
   "metadata": {},
   "source": [
    "* The T-test is a statistical method used to compare the means of two groups.\n",
    "* It is used when the sample size is small (usually n < 30)."
   ]
  },
  {
   "cell_type": "code",
   "execution_count": 23,
   "id": "cfc827bf-460d-47ef-96c9-b6e0e76dea72",
   "metadata": {},
   "outputs": [
    {
     "name": "stdout",
     "output_type": "stream",
     "text": [
      "P-value: 0.0338\n"
     ]
    }
   ],
   "source": [
    "from scipy.stats import ttest_ind\n",
    "\n",
    "# T-test between male and female charges\n",
    "male_charges = data[data['sex'] == 'male']['charges']\n",
    "female_charges = data[data['sex'] == 'female']['charges']\n",
    "\n",
    "t_stat, p_value = ttest_ind(male_charges, female_charges)\n",
    "\n",
    "print(f\"P-value: {p_value:.4f}\")"
   ]
  },
  {
   "cell_type": "code",
   "execution_count": 24,
   "id": "54168ecd-9966-461a-a5ed-d39a0477eb2b",
   "metadata": {},
   "outputs": [
    {
     "name": "stdout",
     "output_type": "stream",
     "text": [
      "Reject the null hypothesis: There is a significant difference in charges.\n"
     ]
    }
   ],
   "source": [
    "if p_value <0.05:\n",
    "    print(\"Reject the null hypothesis: There is a significant difference in charges.\")\n",
    "else:\n",
    "    print(\"Fail to reject the null hypothesis: No significant difference in charges.\")\n"
   ]
  },
  {
   "cell_type": "markdown",
   "id": "a4661b00-d40f-4fb1-b5e4-76c12d34979c",
   "metadata": {},
   "source": [
    "### Insight :"
   ]
  },
  {
   "cell_type": "markdown",
   "id": "b662b006-9661-499e-8152-6ba0aa41d8cd",
   "metadata": {},
   "source": [
    "* The T-test compared medical charges between males and females.\n",
    "\n",
    "* The p-value is 0.0338, which is less than 0.05.\n",
    "\n",
    "* This means we reject the null hypothesis.\n",
    "\n",
    "* There is a significant difference in medical charges between males and females, indicating that gender has an impact on healthcare costs."
   ]
  },
  {
   "cell_type": "markdown",
   "id": "68658072-27d7-4595-8da8-25970ed85db1",
   "metadata": {},
   "source": [
    "<h2 style=\"background-color:navy; color:white; text-align:center; padding:10px;\">\n",
    "    Hypothesis Testing Using Chi-Square Test\n",
    "\n",
    "</h2>"
   ]
  },
  {
   "cell_type": "markdown",
   "id": "316c9519-3eda-4e12-9633-ca98a9d6fe69",
   "metadata": {},
   "source": [
    "* The Chi-Square Test is used to determine whether there is a significant relationship between two categorical variables.\n",
    "\n",
    "* It helps check if the variables are independent or associated based on observed vs. expected frequencies."
   ]
  },
  {
   "cell_type": "code",
   "execution_count": 25,
   "id": "fe311aa1-02b7-43a5-b7e5-3e2f8d97c336",
   "metadata": {},
   "outputs": [
    {
     "name": "stdout",
     "output_type": "stream",
     "text": [
      "Chi-square test between sex and smoker:\n",
      "P-value: 0.0062765550120107375\n",
      "Degrees of Freedom: 1\n",
      "Contingency Table:\n",
      "smoker   no  yes\n",
      "sex             \n",
      "female  547  115\n",
      "male    516  159\n",
      "\n",
      "\n",
      "There is a statistically significant association between sex and smoker.\n",
      "\n",
      "Chi-square test between region and smoker:\n",
      "P-value: 0.06354826573182334\n",
      "Degrees of Freedom: 3\n",
      "Contingency Table:\n",
      "smoker      no  yes\n",
      "region             \n",
      "northeast  257   67\n",
      "northwest  266   58\n",
      "southeast  273   91\n",
      "southwest  267   58\n",
      "\n",
      "\n",
      "There is no statistically significant association between region and smoker.\n",
      "\n"
     ]
    }
   ],
   "source": [
    "from scipy.stats import chi2_contingency\n",
    "\n",
    "# Define the categorical columns you want to test against 'smoker'\n",
    "categorical_cols = ['sex', 'region']  # Add more if needed\n",
    "\n",
    "# Loop over each categorical column\n",
    "for col in categorical_cols:\n",
    "    contingency_table = pd.crosstab(data[col], data['smoker'])\n",
    "    chi2, p_value, dof, expected = chi2_contingency(contingency_table)\n",
    "\n",
    "    print(f\"Chi-square test between {col} and smoker:\")\n",
    "    print(f\"P-value: {p_value}\")\n",
    "    print(f\"Degrees of Freedom: {dof}\")\n",
    "    print(\"Contingency Table:\")\n",
    "    print(contingency_table)\n",
    "    print(\"\\n\")\n",
    "\n",
    "    # Decision based on p-value\n",
    "    if p_value < 0.05:\n",
    "        print(f\"There is a statistically significant association between {col} and smoker.\\n\")\n",
    "    else:\n",
    "        print(f\"There is no statistically significant association between {col} and smoker.\\n\")"
   ]
  },
  {
   "cell_type": "markdown",
   "id": "591cfda1-a5d7-49a8-a123-e77fb5a2cab3",
   "metadata": {},
   "source": [
    "### Insight :"
   ]
  },
  {
   "cell_type": "markdown",
   "id": "4939a08f-0a70-4911-8197-09316c72b82e",
   "metadata": {},
   "source": [
    "* Sex vs. Smoker: P-value (0.0062) is less than 0.05, so there is a significant relationship between gender and smoking status.\n",
    "\n",
    "* Region vs. Smoker: P-value (0.0635) is greater than 0.05, so there is no significant relationship between region and smoking status.\n",
    "\n",
    "* Conclusion: Gender affects smoking habits, but region does not."
   ]
  },
  {
   "cell_type": "markdown",
   "id": "1bbb0d10-e795-49e6-9024-381067ba9cab",
   "metadata": {},
   "source": [
    "<h2 style=\"background-color:navy; color:white; text-align:center; padding:10px;\">\n",
    "    Analyzing Regional Differences Using ANOVA\n",
    "\n",
    "</h2>"
   ]
  },
  {
   "cell_type": "code",
   "execution_count": 26,
   "id": "4d8346be-8e91-43bb-9ebf-84af70f69c89",
   "metadata": {},
   "outputs": [
    {
     "name": "stdout",
     "output_type": "stream",
     "text": [
      "ANOVA F-statistic: 2.96962669358912\n",
      "ANOVA p-value: 0.0308933560705201\n",
      "There is a significant difference in charges across regions.\n"
     ]
    }
   ],
   "source": [
    "from scipy.stats import f_oneway\n",
    "\n",
    "# Load dataset\n",
    "data = pd.read_csv(\"insurance.csv\")\n",
    "\n",
    "# Group charges by region\n",
    "southwest = data[data['region'] == 'southwest']['charges']\n",
    "southeast = data[data['region'] == 'southeast']['charges']\n",
    "northwest = data[data['region'] == 'northwest']['charges']\n",
    "northeast = data[data['region'] == 'northeast']['charges']\n",
    "\n",
    "# Perform one-way ANOVA\n",
    "f_stat, p_val = f_oneway(southwest, southeast, northwest, northeast)\n",
    "\n",
    "print(\"ANOVA F-statistic:\", f_stat)\n",
    "print(\"ANOVA p-value:\", p_val)\n",
    "\n",
    "# Conclusion\n",
    "if p_val < 0.05:\n",
    "    print(\"There is a significant difference in charges across regions.\")\n",
    "else:\n",
    "    print(\"There is no significant difference in charges across regions.\")"
   ]
  },
  {
   "cell_type": "markdown",
   "id": "e8ff6aeb-4e28-4891-81ca-61f224ef9dfa",
   "metadata": {},
   "source": [
    "### Insight :"
   ]
  },
  {
   "cell_type": "markdown",
   "id": "c8001a26-6767-4341-9dea-0112ef7bdafa",
   "metadata": {},
   "source": [
    "* ANOVA test was used to compare insurance charges across regions.\n",
    "\n",
    "* The p-value (0.0308) < 0.05, so the null hypothesis is rejected.\n",
    "\n",
    "* There is a significant difference in charges between at least one pair of regions."
   ]
  },
  {
   "cell_type": "markdown",
   "id": "d3b78d67-429f-4945-8bf4-b117448aa6f0",
   "metadata": {},
   "source": [
    "<h2 style=\"background-color:navy; color:white; text-align:center; padding:10px;\">\n",
    "    Evaluating Model Improvement Using F-Test\n",
    "\n",
    "</h2>"
   ]
  },
  {
   "cell_type": "code",
   "execution_count": 27,
   "id": "f48e6d81-4c98-43e5-8bf0-56b989eb5459",
   "metadata": {},
   "outputs": [],
   "source": [
    "from sklearn.linear_model import LinearRegression\n",
    "from sklearn.metrics import mean_squared_error\n",
    "from sklearn.model_selection import train_test_split"
   ]
  },
  {
   "cell_type": "code",
   "execution_count": 28,
   "id": "33846fee-f12b-4f61-bc7f-614218f501b4",
   "metadata": {},
   "outputs": [],
   "source": [
    "# Encode categorical 'smoker' to numeric\n",
    "data['smoker'] = data['smoker'].map({'yes': 1, 'no': 0})"
   ]
  },
  {
   "cell_type": "code",
   "execution_count": 29,
   "id": "063613da-14e1-44aa-8f41-04648b2b79c1",
   "metadata": {},
   "outputs": [],
   "source": [
    "# Reduced model (only age)\n",
    "X_reduced = data[['age']]\n",
    "y = data['charges']\n",
    "\n",
    "# Full model (age + smoker)\n",
    "X_full = data[['age', 'smoker']]"
   ]
  },
  {
   "cell_type": "code",
   "execution_count": 30,
   "id": "f0129bf6-15d6-4f81-abc1-fa81606ebefe",
   "metadata": {},
   "outputs": [],
   "source": [
    "# Train-test split\n",
    "Xr_train, Xr_test, yr_train, yr_test = train_test_split(X_reduced, y, test_size=0.2, random_state=1)\n",
    "Xf_train, Xf_test, yf_train, yf_test = train_test_split(X_full, y, test_size=0.2, random_state=1)"
   ]
  },
  {
   "cell_type": "code",
   "execution_count": 31,
   "id": "27bdb96b-98f4-4926-ad59-107e0e47d3e1",
   "metadata": {},
   "outputs": [],
   "source": [
    "# Train models\n",
    "model_reduced = LinearRegression().fit(Xr_train, yr_train)\n",
    "model_full = LinearRegression().fit(Xf_train, yf_train)\n",
    "\n",
    "# Predictions\n",
    "y_pred_reduced = model_reduced.predict(Xr_test)\n",
    "y_pred_full = model_full.predict(Xf_test)"
   ]
  },
  {
   "cell_type": "code",
   "execution_count": 32,
   "id": "be83dde4-aece-45fa-a424-0a2df8a7b699",
   "metadata": {},
   "outputs": [],
   "source": [
    "# Mean Squared Errors\n",
    "mse_reduced = mean_squared_error(yr_test, y_pred_reduced)\n",
    "mse_full = mean_squared_error(yf_test, y_pred_full)"
   ]
  },
  {
   "cell_type": "code",
   "execution_count": 33,
   "id": "6243af10-bc3f-4d19-9c36-08d397ff6d87",
   "metadata": {},
   "outputs": [
    {
     "name": "stdout",
     "output_type": "stream",
     "text": [
      "Reduced MSE: 137488743.04809242\n",
      "Full MSE: 41733120.14356795\n",
      "F-statistic: 610.3304906266201\n",
      "There is a significant improvement in the model's performance by including the 'smoker' variable.\n"
     ]
    }
   ],
   "source": [
    "# F-test statistic\n",
    "n = len(yf_test)         # number of samples\n",
    "p1 = X_reduced.shape[1]  # reduced model features\n",
    "p2 = X_full.shape[1]     # full model features\n",
    "\n",
    "f_stat = ((mse_reduced - mse_full) / (p2 - p1)) / (mse_full / (n - p2))\n",
    "\n",
    "print(\"Reduced MSE:\", mse_reduced)\n",
    "print(\"Full MSE:\", mse_full)\n",
    "print(\"F-statistic:\", f_stat)\n",
    "\n",
    "if f_stat > 4:  # Rough rule: >4 means likely significant\n",
    "    print(\"There is a significant improvement in the model's performance by including the 'smoker' variable.\")\n",
    "else:\n",
    "    print(\" There is no significant improvement in the model's performance from adding the 'smoker' variable.\")"
   ]
  },
  {
   "cell_type": "markdown",
   "id": "05dccee8-6626-4b45-b928-7c5e1c594578",
   "metadata": {},
   "source": [
    "### Insight :"
   ]
  },
  {
   "cell_type": "markdown",
   "id": "23f21711-c635-4e5f-8c24-e14543b01666",
   "metadata": {},
   "source": [
    "* The F-statistic is 610.13, which is much greater than 4, indicating strong statistical significance.\n",
    "\n",
    "* The full model (with both age and smoker) had a lower error than the reduced model (only age).\n",
    "\n",
    "* Adding the smoker variable significantly improved the model's prediction accuracy.\n",
    "\n",
    "* Smoking status is an important factor in predicting insurance charges."
   ]
  },
  {
   "cell_type": "markdown",
   "id": "12bd723c-8601-43ed-a0ab-570c5ab291a0",
   "metadata": {},
   "source": [
    "<h2 style=\"background-color:navy; color:white; text-align:center; padding:10px;\">\n",
    "    Mann-Whitney U Test (Non-parametric)\n",
    "\n",
    "</h2>"
   ]
  },
  {
   "cell_type": "markdown",
   "id": "8ef544be-58bc-4021-8353-086df6a158cf",
   "metadata": {},
   "source": [
    "* The Mann-Whitney U Test is a non-parametric test used to compare two independent groups.\n",
    "  \n",
    "* Non-parametric tests are used when data is not normally distributed and are useful for comparing groups without assuming a specific data pattern.\n",
    "\n",
    "  \n",
    "* It checks whether the medians of the two groups are significantly different, especially when the data is not normally distributed."
   ]
  },
  {
   "cell_type": "code",
   "execution_count": 44,
   "id": "575e88c0-5bac-460f-8513-b49019e59fcc",
   "metadata": {},
   "outputs": [
    {
     "name": "stdout",
     "output_type": "stream",
     "text": [
      "Mann-Whitney U Statistic: 226208.0\n",
      "p-value: 0.7286510894470093\n",
      "There is no significant difference.\n"
     ]
    }
   ],
   "source": [
    "from scipy.stats import mannwhitneyu\n",
    "\n",
    "group1 = data[data['sex'] == 'male']['charges']\n",
    "group2 = data[data['sex'] == 'female']['charges']\n",
    "\n",
    "stat, p = mannwhitneyu(group1, group2)\n",
    "\n",
    "print(\"Mann-Whitney U Statistic:\", stat)\n",
    "print(\"p-value:\", p)\n",
    "\n",
    "if p < 0.05:\n",
    "    print(\"There is a significant difference in charges between male and female.\")\n",
    "else:\n",
    "    print(\"There is no significant difference.\")"
   ]
  },
  {
   "cell_type": "markdown",
   "id": "2e897dc0-ed87-4e26-b252-283166ba26f7",
   "metadata": {},
   "source": [
    "### Insight :"
   ]
  },
  {
   "cell_type": "markdown",
   "id": "6af0572d-c901-45b0-a907-42ab38dcb63a",
   "metadata": {},
   "source": [
    "* The p-value is 0.728, which is greater than 0.05, so the null hypothesis is not rejected.\n",
    "\n",
    "* This indicates that there is no statistically significant difference in insurance charges between male and female individuals.\n",
    "\n",
    "* Therefore, gender does not have a strong effect on insurance charges in this dataset."
   ]
  },
  {
   "cell_type": "markdown",
   "id": "94cc3bcd-066a-4eba-9d79-053c276d18f7",
   "metadata": {},
   "source": [
    "<h2 style=\"background-color:navy; color:white; text-align:center; padding:10px;\">\n",
    "    Final Observation\n",
    "\n",
    "</h2>"
   ]
  },
  {
   "cell_type": "markdown",
   "id": "ae84fa7e-76dd-499b-b9fb-a19c130096a1",
   "metadata": {},
   "source": [
    "| Test Name                | Compared Variables               | P-Value / F-Stat | Significant? | Conclusion                                                           |\n",
    "|--------------------------|----------------------------------|------------------|--------------|----------------------------------------------------------------------|\n",
    "| Chi-Square Test          | Sex vs. Smoker                   | 0.0062           | Yes          | Gender affects smoking habits.                                      |\n",
    "|                          | Region vs. Smoker                | 0.0635           | No           | Region does not affect smoking habits.                              |\n",
    "| Z-Test                   | Charges: Smoker vs. Non-Smoker   | 0.0000           | Yes          | Smokers pay significantly more than non-smokers.                    |\n",
    "| T-Test                   | Charges: Male vs. Female         | 0.0338           | Yes          | Charges differ significantly between males and females.             |\n",
    "| ANOVA                    | Charges across Regions           | 0.0308           | Yes          | At least one region differs in charges from the others.             |\n",
    "| F-Test (Model Comparison)| Age vs. Age + Smoker             | F = 610.13       | Yes          | Including 'smoker' improves prediction accuracy.                     |\n",
    "| Mann-Whitney U Test      | Charges: Male vs. Female         | 0.728            | No           | No significant difference in charges by gender.                     |\n"
   ]
  }
 ],
 "metadata": {
  "kernelspec": {
   "display_name": "Python 3 (ipykernel)",
   "language": "python",
   "name": "python3"
  },
  "language_info": {
   "codemirror_mode": {
    "name": "ipython",
    "version": 3
   },
   "file_extension": ".py",
   "mimetype": "text/x-python",
   "name": "python",
   "nbconvert_exporter": "python",
   "pygments_lexer": "ipython3",
   "version": "3.12.7"
  }
 },
 "nbformat": 4,
 "nbformat_minor": 5
}
